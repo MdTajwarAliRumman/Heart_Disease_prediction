{
  "cells": [
    {
      "cell_type": "markdown",
      "metadata": {
        "id": "dqEA-7YGzM_z"
      },
      "source": [
        "#Heart Disease Prediction\n",
        "#------------------💓-------------------"
      ]
    },
    {
      "cell_type": "code",
      "execution_count": null,
      "metadata": {
        "id": "fFrU8hiyxToJ"
      },
      "outputs": [],
      "source": [
        "Image('image-1.jpg',width=600)"
      ]
    },
    {
      "cell_type": "markdown",
      "metadata": {
        "id": "1pdVDefO_90P"
      },
      "source": [
        "Context:\n"
      ]
    },
    {
      "cell_type": "markdown",
      "metadata": {
        "id": "UwGVfy40AfMb"
      },
      "source": [
        "At 17.9 million deaths per year, or 31% of all deaths worldwide, cardiovascular diseases (CVDs) are the leading cause of death worldwide. Heart attacks and strokes account for four out of every five CVD deaths, and one-third of these deaths happen before the age of 70. Heart failure is a frequent complication of CVDs, and this dataset comprises 11 variables that might be used to anticipate the development of a potential heart condition.\n",
        "\n",
        "A machine learning model can be very helpful in the early detection and care of people with cardiovascular disease or who are at high cardiovascular risk (due to the presence of one or more risk factors including hypertension, diabetes, hyperlipidaemia, or previously established disease).\n",
        "\n",
        "#### Attribute Information:\n",
        "\n",
        "* Age: age of the patient [years]\n",
        "\n",
        "* Sex: sex of the patient [M: Male, F: Female]\n",
        "\n",
        "* ChestPainType: chest pain type [TA: Typical Angina, ATA: Atypical Angina, NAP: Non-Anginal Pain, ASY: Asymptomatic]\n",
        "\n",
        "* RestingBP: resting blood pressure [mm Hg]\n",
        "\n",
        "* Cholesterol: serum cholesterol [mm/dl]\n",
        "\n",
        "* FastingBS: fasting blood sugar [1: if FastingBS > 120 mg/dl, 0: otherwise]\n",
        "\n",
        "* RestingECG: resting electrocardiogram results [Normal: Normal, ST: having ST-T wave abnormality (T wave inversions and/or ST elevation or depression of > 0.05 mV), LVH: showing probable or definite left ventricular hypertrophy by Estes' criteria]\n",
        "\n",
        "* MaxHR: maximum heart rate achieved [Numeric value between 60 and 202]\n",
        "\n",
        "* ExerciseAngina: exercise-induced angina [Y: Yes, N: No]\n",
        "\n",
        "* Oldpeak: oldpeak = ST [Numeric value measured in depression]\n",
        "\n",
        "* ST_Slope: the slope of the peak exercise ST segment [Up: upsloping, Flat: flat, Down: downsloping]\n",
        "\n",
        "* HeartDisease: output class [1: heart disease, 0: Normal]\n"
      ]
    },
    {
      "cell_type": "markdown",
      "metadata": {
        "id": "qorWV1mUAkVf"
      },
      "source": [
        "## Load Packages"
      ]
    },
    {
      "cell_type": "code",
      "execution_count": null,
      "metadata": {
        "id": "zEQ2j8ErAqoT"
      },
      "outputs": [],
      "source": [
        "\n",
        "import pandas as pd\n",
        "import numpy as np\n",
        "import matplotlib.pyplot as plt\n",
        "import seaborn as sns\n",
        "\n",
        "\n",
        "from sklearn.model_selection import train_test_split\n",
        "from sklearn.linear_model import LogisticRegression\n",
        "from sklearn.metrics import accuracy_score\n",
        "\n",
        "from google.colab import files\n",
        "from IPython.display import Image\n",
        "\n",
        "plt.style.use(\"fivethirtyeight\")"
      ]
    },
    {
      "cell_type": "markdown",
      "metadata": {
        "id": "N5J8mQf-BtnR"
      },
      "source": [
        "###Import Image"
      ]
    },
    {
      "cell_type": "code",
      "execution_count": null,
      "metadata": {
        "id": "uqObPVqcwi7B"
      },
      "outputs": [],
      "source": [
        "uploaded = files.upload()"
      ]
    },
    {
      "cell_type": "code",
      "execution_count": null,
      "metadata": {
        "id": "af696DrpArn3"
      },
      "outputs": [],
      "source": [
        "#Check pandas version\n",
        "pd.__version__"
      ]
    },
    {
      "cell_type": "markdown",
      "metadata": {
        "id": "GDi0RlrwB10E"
      },
      "source": [
        "## Import Data"
      ]
    },
    {
      "cell_type": "code",
      "execution_count": null,
      "metadata": {
        "id": "g3rDXhFOAqo9"
      },
      "outputs": [],
      "source": [
        "heart_dft = pd.read_csv('/content/drive/MyDrive/Heart database/heart.csv')\n",
        "heart_dft.head(), heart_dft.shape\n",
        "\n",
        "# loading the csv data to a pandas dataframe\n",
        "heart_data = pd.read_csv('/content/drive/MyDrive/Heart database/HeartData.csv')\n",
        "\n",
        "\n"
      ]
    },
    {
      "cell_type": "markdown",
      "metadata": {
        "id": "UZOziwTNEv54"
      },
      "source": [
        "## Get the dataset's information"
      ]
    },
    {
      "cell_type": "code",
      "execution_count": null,
      "metadata": {
        "id": "pImGMxxhEzYt"
      },
      "outputs": [],
      "source": [
        "heart_dft.info()"
      ]
    },
    {
      "cell_type": "markdown",
      "metadata": {
        "id": "3s-5-R05FZFR"
      },
      "source": [
        "Observations:\n",
        "\n",
        "* Seven(7) numeric variables and five(5) variables type object\n",
        "* No missing data in this Dataset\n",
        "* Variables names in Pascal Case, I will keep it like that.\n",
        "* will convert object variables to category data type"
      ]
    },
    {
      "cell_type": "markdown",
      "metadata": {
        "id": "E1uTNRhfFdYq"
      },
      "source": []
    },
    {
      "cell_type": "markdown",
      "metadata": {
        "id": "gaA8KKTZFdZm"
      },
      "source": [
        "### Convert object vars and \"FastingBS\" var to Categorical data type"
      ]
    },
    {
      "cell_type": "code",
      "execution_count": null,
      "metadata": {
        "id": "UtH3sCGzFhou"
      },
      "outputs": [],
      "source": [
        "\n",
        "heart_dft[\n",
        "    [\n",
        "        \"ChestPainType\",\n",
        "        \"Sex\",\n",
        "        \"FastingBS\",\n",
        "        \"RestingECG\",\n",
        "        \"ExerciseAngina\",\n",
        "        \"ST_Slope\",\n",
        "        \"HeartDisease\",\n",
        "    ]\n",
        "] = heart_dft[\n",
        "    [\n",
        "        \"ChestPainType\",\n",
        "        \"Sex\",\n",
        "        \"FastingBS\",\n",
        "        \"RestingECG\",\n",
        "        \"ExerciseAngina\",\n",
        "        \"ST_Slope\",\n",
        "        \"HeartDisease\",\n",
        "    ]\n",
        "].astype(\n",
        "    \"category\"\n",
        ")"
      ]
    },
    {
      "cell_type": "markdown",
      "metadata": {
        "id": "ynE-TJZoFxBl"
      },
      "source": [
        "### Replace \"M\" with Male and \"F\" with Female and HeartDisease to Yes and No."
      ]
    },
    {
      "cell_type": "code",
      "execution_count": null,
      "metadata": {
        "id": "meLeMCwqFyj9"
      },
      "outputs": [],
      "source": [
        "heart_dft[\"Sex\"] = heart_dft[\"Sex\"].map({\"M\": \"Male\", \"F\": \"Female\"})\n",
        "heart_dft[\"Sex\"]\n",
        "heart_dft[\"HeartDisease\"] = heart_dft[\"HeartDisease\"].map({0: \"No\", 1: \"Yes\"})\n",
        "heart_dft.info()"
      ]
    },
    {
      "cell_type": "markdown",
      "metadata": {
        "id": "gvhj6IqbGRaS"
      },
      "source": [
        " lets use describe() for summary statistics!"
      ]
    },
    {
      "cell_type": "code",
      "execution_count": null,
      "metadata": {
        "id": "57FPUxswGOM-"
      },
      "outputs": [],
      "source": [
        "heart_dft.describe().round()"
      ]
    },
    {
      "cell_type": "markdown",
      "metadata": {
        "id": "L9oha1N7GyZW"
      },
      "source": [
        "Counts of each Calegorical Vars (\"ChestPainType\", \"Sex\", \"RestingECG\", \"ExerciseAngina\", \"ST_Slope\")"
      ]
    },
    {
      "cell_type": "markdown",
      "metadata": {
        "id": "DXUKv7yOG8Ez"
      },
      "source": [
        " Sex Var\n",
        "\n",
        "\n",
        "\n"
      ]
    },
    {
      "cell_type": "code",
      "execution_count": null,
      "metadata": {
        "id": "IQNpuPKBG2S7"
      },
      "outputs": [],
      "source": [
        "sex_counts = heart_dft[\"Sex\"].value_counts(normalize=True).round(2) * 100\n",
        "sex_counts = sex_counts.reset_index().rename(columns={\"Sex\": \"Pct\", \"index\": \"Sex\"})\n",
        "sex_counts"
      ]
    },
    {
      "cell_type": "code",
      "execution_count": null,
      "metadata": {
        "id": "yvEHD4ajHbB-"
      },
      "outputs": [],
      "source": [
        "plt.figure(figsize=(7, 5))\n",
        "sns.set_context(\"paper\")\n",
        "\n",
        "sex_color = dict({\"Male\": \"#2986cc\", \"Female\": \"#c90076\"})\n",
        "\n",
        "ax1 = sns.barplot(\n",
        "    data=sex_counts,\n",
        "    x=\"Sex\",\n",
        "    #errorbar=None,\n",
        "    y=\"Pct\",\n",
        "    palette=sex_color,\n",
        "    linewidth=0.5,\n",
        "    edgecolor=\"black\",\n",
        "    alpha=0.7,\n",
        ")\n",
        "\n",
        "values1 = ax1.containers[0].datavalues\n",
        "labels = [\"{:g}%\".format(val) for val in values1]\n",
        "ax1.bar_label(ax1.containers[0], labels=labels)\n",
        "\n",
        "ax1.set_ylabel(\"Percent\")\n",
        "ax1.set_xlabel(\"\")\n",
        "ax1.set_title(\n",
        "    \"Almost 80% percent of the gender category are Males, ~21% Females\", fontsize=10\n",
        ")\n",
        "\n",
        "\n",
        "plt.show()"
      ]
    },
    {
      "cell_type": "markdown",
      "metadata": {
        "id": "h4ILma9LHhiL"
      },
      "source": [
        "Observations:\n",
        "\n",
        "* Imbalanced data in terms of the Sex variable"
      ]
    },
    {
      "cell_type": "markdown",
      "metadata": {
        "id": "USMAx8YcHmC3"
      },
      "source": [
        "#### ChestPainType Vs Sex\n"
      ]
    },
    {
      "cell_type": "code",
      "execution_count": null,
      "metadata": {
        "id": "EdfwIyniHr13"
      },
      "outputs": [],
      "source": [
        "ChestPainType_vs_Sex = (\n",
        "    heart_dft[[\"ChestPainType\", \"Sex\"]]\n",
        "    .value_counts(normalize=True)\n",
        "    .reset_index(name=\"Pct\")\n",
        "    .sort_values(by=\"ChestPainType\")\n",
        ")\n",
        "ChestPainType_vs_Sex[\"Pct\"] = ChestPainType_vs_Sex[\"Pct\"].round(2) * 100\n",
        "ChestPainType_vs_Sex"
      ]
    },
    {
      "cell_type": "markdown",
      "metadata": {
        "id": "BYRgjNBdH46f"
      },
      "source": [
        "### RestingECG"
      ]
    },
    {
      "cell_type": "code",
      "execution_count": null,
      "metadata": {
        "id": "-uU19TeLH7O_"
      },
      "outputs": [],
      "source": [
        "RestingECG_vs_Sex = (\n",
        "    heart_dft[[\"RestingECG\", \"Sex\"]]\n",
        "    .value_counts(normalize=True)\n",
        "    .reset_index(name=\"Pct\")\n",
        "    .sort_values(by=\"RestingECG\")\n",
        ")\n",
        "RestingECG_vs_Sex[\"Pct\"] = RestingECG_vs_Sex[\"Pct\"].round(2) * 100\n",
        "RestingECG_vs_Sex.sort_values(by=\"Pct\", ascending=False)"
      ]
    },
    {
      "cell_type": "code",
      "execution_count": null,
      "metadata": {
        "id": "631m9qEPIICv"
      },
      "outputs": [],
      "source": [
        "fig, ax = plt.subplots(1, 2, figsize=(12, 5), sharey=True)\n",
        "\n",
        "palette4 = {\"ASY\": \"#1b85b8\", \"ATA\": \"#5a5255\", \"NAP\": \"#559e83\", \"TA\": \"#ae5a41\"}\n",
        "\n",
        "palette5 = {\"LVH\": \"#2dc937\", \"Normal\": \"#e7b416\", \"ST\": \"#cc3232\"}\n",
        "\n",
        "sns.barplot(\n",
        "    data=ChestPainType_vs_Sex,\n",
        "    x=\"Sex\",\n",
        "    hue=\"ChestPainType\",\n",
        "    #errorbar=None,\n",
        "    y=\"Pct\",\n",
        "    palette=palette4,\n",
        "    linewidth=0.5,\n",
        "    edgecolor=\"black\",\n",
        "    alpha=0.8,\n",
        "    ax=ax[0],\n",
        ")\n",
        "\n",
        "for ax1 in [ax[0]]:\n",
        "    for container in ax1.containers:\n",
        "        values2 = container.datavalues\n",
        "        labels = [\"{:g}%\".format(val) for val in values2]\n",
        "        ax1.bar_label(container, labels=labels)\n",
        "\n",
        "ax[0].set_ylabel(\"Percent\")\n",
        "ax[0].set_xlabel(\"\")\n",
        "ax[0].set_title(\n",
        "    \"Regardless of the proportion of Males and Females,\\n Men have high ASY compared with Women, and the pattern is different.\",\n",
        "    fontsize=10,\n",
        ")\n",
        "\n",
        "\n",
        "sns.barplot(\n",
        "    data=RestingECG_vs_Sex,\n",
        "    x=\"Sex\",\n",
        "    hue=\"RestingECG\",\n",
        "    #errorbar=None,\n",
        "    y=\"Pct\",\n",
        "    palette=palette5,\n",
        "    linewidth=0.5,\n",
        "    edgecolor=\"black\",\n",
        "    alpha=0.8,\n",
        "    ax=ax[1],\n",
        ")\n",
        "\n",
        "for ax2 in [ax[1]]:\n",
        "    for container in ax2.containers:\n",
        "        values3 = container.datavalues\n",
        "        labels = [\"{:g}%\".format(val) for val in values3]\n",
        "        ax2.bar_label(container, labels=labels)\n",
        "\n",
        "ax[1].set_ylabel(\"\")\n",
        "ax[1].set_xlabel(\"\")\n",
        "ax[1].set_title(\"Men and Women have somehow same pattern of RestingECG\", fontsize=10)\n",
        "\n",
        "\n",
        "plt.tight_layout()\n",
        "plt.show()"
      ]
    },
    {
      "cell_type": "markdown",
      "metadata": {
        "id": "36UpY-p_IT56"
      },
      "source": [
        "Observations:\n",
        "\n",
        "* ChestPainType: chest pain type [TA: Typical Angina, ATA: Atypical Angina, NAP: Non-Anginal Pain, ASY: Asymptomatic]\n",
        "\n",
        "The majority 46% of the Male participants are in ASY category\n",
        "\n",
        "* RestingBP: resting blood pressure taking a rest for min five(5) minutes before blood pressure measurement\n",
        "\n",
        "The majority of the participants are in the Normal category\n",
        "\n",
        "Note: The percentage is calculated using all participants, NOT within each group of Sex"
      ]
    },
    {
      "cell_type": "markdown",
      "metadata": {
        "id": "cVFfDPmuIZOH"
      },
      "source": [
        "### ExerciseAngina and ST_Slope"
      ]
    },
    {
      "cell_type": "code",
      "execution_count": null,
      "metadata": {
        "id": "hfptDQjnIZ6Q"
      },
      "outputs": [],
      "source": [
        "ExerciseAngina_vs_Sex = (\n",
        "    heart_dft[[\"ExerciseAngina\", \"Sex\"]]\n",
        "    .value_counts(normalize=True)\n",
        "    .reset_index(name=\"Pct\")\n",
        "    .sort_values(by=\"ExerciseAngina\")\n",
        ")\n",
        "ExerciseAngina_vs_Sex[\"Pct\"] = ExerciseAngina_vs_Sex[\"Pct\"].round(2) * 100\n",
        "\n",
        "\n",
        "ST_Slope_vs_Sex = (\n",
        "    heart_dft[[\"ST_Slope\", \"Sex\"]]\n",
        "    .value_counts(normalize=True)\n",
        "    .reset_index(name=\"Pct\")\n",
        "    .sort_values(by=\"ST_Slope\")\n",
        ")\n",
        "ST_Slope_vs_Sex[\"Pct\"] = ST_Slope_vs_Sex[\"Pct\"].round(2) * 100"
      ]
    },
    {
      "cell_type": "code",
      "execution_count": null,
      "metadata": {
        "id": "SQttOnoOIjBY"
      },
      "outputs": [],
      "source": [
        "fig, ax = plt.subplots(1, 2, figsize=(12, 5), sharey=True)\n",
        "\n",
        "palette6 = {\n",
        "    \"Y\": \"#000000\",\n",
        "    \"N\": \"#009900\",\n",
        "}\n",
        "\n",
        "palette7 = {\"Down\": \"#b2d8d8\", \"Flat\": \"#66b2b2\", \"Up\": \"#004c4c\"}\n",
        "\n",
        "sns.barplot(\n",
        "    data=ExerciseAngina_vs_Sex,\n",
        "    x=\"Sex\",\n",
        "    hue=\"ExerciseAngina\",\n",
        "    #errorbar=None,\n",
        "    y=\"Pct\",\n",
        "    palette=palette6,\n",
        "    linewidth=0.5,\n",
        "    edgecolor=\"black\",\n",
        "    alpha=0.8,\n",
        "    ax=ax[0],\n",
        ")\n",
        "\n",
        "for ax3 in [ax[0]]:\n",
        "    for container in ax3.containers:\n",
        "        values2 = container.datavalues\n",
        "        labels = [\"{:g}%\".format(val) for val in values2]\n",
        "        ax3.bar_label(container, labels=labels)\n",
        "\n",
        "ax[0].set_ylabel(\"Percent\")\n",
        "ax[0].set_xlabel(\"\")\n",
        "ax[0].set_title(\n",
        "    \"Almost a similar pattern between Men and Women. (ExerciseAngina)\", fontsize=10\n",
        ")\n",
        "\n",
        "\n",
        "sns.barplot(\n",
        "    data=ST_Slope_vs_Sex,\n",
        "    x=\"Sex\",\n",
        "    hue=\"ST_Slope\",\n",
        "    #errorbar=None,\n",
        "    y=\"Pct\",\n",
        "    palette=palette7,\n",
        "    linewidth=0.5,\n",
        "    edgecolor=\"black\",\n",
        "    alpha=0.8,\n",
        "    ax=ax[1],\n",
        ")\n",
        "\n",
        "for ax4 in [ax[1]]:\n",
        "    for container in ax4.containers:\n",
        "        values3 = container.datavalues\n",
        "        labels = [\"{:g}%\".format(val) for val in values3]\n",
        "        ax4.bar_label(container, labels=labels)\n",
        "\n",
        "ax[1].set_ylabel(\"\")\n",
        "ax[1].set_xlabel(\"\")\n",
        "ax[1].set_title(\n",
        "    \"A different pattern between Men and Women (ExerciseAngina)\", fontsize=10\n",
        ")\n",
        "\n",
        "\n",
        "plt.tight_layout()\n",
        "plt.show()"
      ]
    },
    {
      "cell_type": "markdown",
      "metadata": {
        "id": "kgQyi0XKIp8g"
      },
      "source": []
    },
    {
      "cell_type": "markdown",
      "metadata": {
        "id": "Dlxz4nFfIp9i"
      },
      "source": [
        "Note:\n",
        "\n",
        "* ExerciseAngina: exercise-induced angina [Y: Yes, N: No]\n",
        "Angina is a type of chest pain caused by reduced blood flow to the heart\n",
        "\n",
        "* ST_Slope: the slope of the peak exercise ST segment [Up: upsloping, Flat: flat, Down: downsloping]\n",
        "Mainly Flat in (Males) and relatively Up in (Females)"
      ]
    },
    {
      "cell_type": "markdown",
      "metadata": {
        "id": "6HTE4ge-IsnL"
      },
      "source": [
        "### Numeric Vars (\"Age\", \"Cholesterol\", \"MaxHR\", \"Oldpeak\")"
      ]
    },
    {
      "cell_type": "code",
      "execution_count": null,
      "metadata": {
        "id": "NckQkRRlItS9"
      },
      "outputs": [],
      "source": [
        "filtheart_dft = heart_dft[\"Cholesterol\"] > 0\n",
        "heart_dft_chol_n0 = heart_dft[filtheart_dft]\n",
        "\n",
        "sns.JointGrid(\n",
        "    data=heart_dft, x=\"Age\", y=\"Cholesterol\", hue=\"Sex\", palette=sex_color\n",
        ").plot(sns.scatterplot, sns.histplot)\n",
        "plt.show()"
      ]
    },
    {
      "cell_type": "markdown",
      "metadata": {
        "id": "3GDiomIFJEoV"
      },
      "source": [
        "Observations:\n",
        "\n",
        "* It is somehow the same pattern for Male and Female relative to their counts!\n",
        "* We have many of 0 values in the Cholesterol var!!\n",
        "* Let's use lmplot to see the regression line of each group.\n",
        "* I think we have to remove the 0 values in the Cholesterol var and check again!"
      ]
    },
    {
      "cell_type": "code",
      "execution_count": null,
      "metadata": {
        "id": "EU0u7R_MJNBD"
      },
      "outputs": [],
      "source": [
        "sns.lmplot(\n",
        "    data=heart_dft_chol_n0,\n",
        "    x=\"Age\",\n",
        "    y=\"Cholesterol\",\n",
        "    hue=\"Sex\",\n",
        "    palette=sex_color,\n",
        ").set(ylabel=\"Cholesterol\", xlabel=\"Age\", title=\"\")\n",
        "plt.show()"
      ]
    },
    {
      "cell_type": "markdown",
      "metadata": {
        "id": "UOVhgAIAJV4x"
      },
      "source": [
        "* We may need to do some t-test to check whether the true means difference is equal to 0 or Not. we can scipy package to do that, but for now, let's move on..."
      ]
    },
    {
      "cell_type": "markdown",
      "metadata": {
        "id": "BGcg0IieJV33"
      },
      "source": [
        "### Find the mean Cholesterol by Sex"
      ]
    },
    {
      "cell_type": "code",
      "execution_count": null,
      "metadata": {
        "id": "F3jipHEBJcrE"
      },
      "outputs": [],
      "source": [
        "Chol_mean_f = (\n",
        "    heart_dft_chol_n0[[\"Sex\", \"Cholesterol\"]]\n",
        "    .groupby([\"Sex\"])\n",
        "    .mean(\"Cholesterol\")\n",
        "    .loc[\"Female\", \"Cholesterol\"]\n",
        ").round()\n",
        "Chol_mean_m = (\n",
        "    heart_dft_chol_n0[[\"Sex\", \"Cholesterol\"]]\n",
        "    .groupby([\"Sex\"])\n",
        "    .mean(\"Cholesterol\")\n",
        "    .loc[\"Male\", \"Cholesterol\"]\n",
        ").round()\n",
        "\n",
        "print(\"for Female =\", Chol_mean_f, \"for Male =\", Chol_mean_m)"
      ]
    },
    {
      "cell_type": "markdown",
      "metadata": {
        "id": "s_C3C0XDJ2Ef"
      },
      "source": [
        "* Somehow Same mean\n",
        "\n",
        "let's try to plot the result!"
      ]
    },
    {
      "cell_type": "markdown",
      "metadata": {
        "id": "De5chP_gJ5FY"
      },
      "source": [
        "### Cholesterol var, density distribution, Male VS Female"
      ]
    },
    {
      "cell_type": "code",
      "execution_count": null,
      "metadata": {
        "id": "qS3I1iI2J7Fo"
      },
      "outputs": [],
      "source": [
        "plt.figure(figsize=(10, 5))\n",
        "sns.set_context(\"paper\")\n",
        "\n",
        "kdeplt = sns.kdeplot(\n",
        "    data=heart_dft_chol_n0,\n",
        "    x=\"Cholesterol\",\n",
        "    hue=\"Sex\",\n",
        "    palette=sex_color,\n",
        "    alpha=0.7,\n",
        "    lw=2,\n",
        ")\n",
        "kdeplt.set_title(\"Cholesterol values distribution\\n Male VS Female\", fontsize=12)\n",
        "kdeplt.set_xlabel(\"Cholesterol\", fontsize=12)\n",
        "\n",
        "\n",
        "plt.axvline(x=Chol_mean_f, color=\"#c90076\", ls=\"--\", lw=1.3)\n",
        "plt.axvline(x=Chol_mean_m, color=\"#2986cc\", ls=\"--\", lw=1.3)\n",
        "plt.text(108, 0.00612, \"Mean Cholesterol / Male\", fontsize=10, color=\"#2986cc\")\n",
        "plt.text(260, 0.006, \"Mean Cholesterol / Female\", fontsize=10, color=\"#c90076\")\n",
        "\n",
        "\n",
        "plt.show()"
      ]
    },
    {
      "cell_type": "markdown",
      "metadata": {
        "id": "7f4oVpjILASx"
      },
      "source": [
        "* Indeed, they are similar, regardless of the sample size of females.\n",
        "* Again, to make a sufficient result, we have to do t-test or linear regression."
      ]
    },
    {
      "cell_type": "code",
      "execution_count": null,
      "metadata": {
        "id": "NOMr83uuLEXO"
      },
      "outputs": [],
      "source": [
        "heart_dft.info()"
      ]
    },
    {
      "cell_type": "markdown",
      "metadata": {
        "id": "_nLsalzPLLfJ"
      },
      "source": [
        "### Target Variable - HeartDisease\n",
        "\n",
        "Counts"
      ]
    },
    {
      "cell_type": "code",
      "execution_count": null,
      "metadata": {
        "id": "nMjMxwfELEYK"
      },
      "outputs": [],
      "source": [
        "HeartDisease_counts = (\n",
        "    heart_dft[[\"HeartDisease\"]]\n",
        "    .value_counts(normalize=True)\n",
        "    .reset_index(name=\"Pct\")\n",
        "    .sort_values(by=\"HeartDisease\")\n",
        ")\n",
        "HeartDisease_counts[\"Pct\"] = HeartDisease_counts[\"Pct\"].round(2) * 100\n",
        "HeartDisease_counts"
      ]
    },
    {
      "cell_type": "markdown",
      "metadata": {
        "id": "ASyYVDdlLYzo"
      },
      "source": [
        "* Somehow balanced"
      ]
    },
    {
      "cell_type": "code",
      "execution_count": null,
      "metadata": {
        "id": "Q_1dQLs3LZj1"
      },
      "outputs": [],
      "source": [
        "HeartDisease_colors = {\"Yes\": \"#d62d20\", \"No\": \"#008744\"}\n",
        "hplt = sns.barplot(\n",
        "    data=HeartDisease_counts,\n",
        "    x=\"Pct\",\n",
        "    #errorbar=None,\n",
        "    y=\"HeartDisease\",\n",
        "    palette=HeartDisease_colors,\n",
        "    linewidth=0.5,\n",
        "    edgecolor=\"black\",\n",
        "    alpha=0.7,\n",
        ")\n",
        "\n",
        "hplt.set_ylabel(\"HeartDisease\", rotation=45)\n",
        "hplt.set_xlabel(\"Percent\")\n",
        "hplt.set_title(\"Acceptably balanced target variable \", fontsize=10)\n",
        "plt.show()"
      ]
    },
    {
      "cell_type": "markdown",
      "metadata": {
        "id": "zPK2EmO0Lpd1"
      },
      "source": [
        "### Pairplot\n",
        "\n",
        "#### Removing zeros from Oldpeak and Cholesterol vars"
      ]
    },
    {
      "cell_type": "code",
      "execution_count": null,
      "metadata": {
        "id": "Zbd1KWgULuhp"
      },
      "outputs": [],
      "source": [
        "filtered_for_pairplot = heart_dft.loc[\n",
        "    (heart_dft[\"Oldpeak\"] > 0) & (heart_dft[\"Cholesterol\"] > 0)\n",
        "]"
      ]
    },
    {
      "cell_type": "markdown",
      "metadata": {
        "id": "il1FCEAmLz12"
      },
      "source": [
        "#### Create a sample of 150 to speed up the ploting process"
      ]
    },
    {
      "cell_type": "code",
      "execution_count": null,
      "metadata": {
        "id": "QM-XLBe5L2NT"
      },
      "outputs": [],
      "source": [
        "pairplot_df = (\n",
        "    filtered_for_pairplot.groupby([\"Sex\"])  # Stratify by \"Sex\"\n",
        "    .apply(lambda x: x.sample(75))  # 75 for each Sex\n",
        "    .reset_index(drop=True)  # int64 index type, back to default!\n",
        ")"
      ]
    },
    {
      "cell_type": "code",
      "execution_count": null,
      "metadata": {
        "id": "Jnfnc4b0L9Ky"
      },
      "outputs": [],
      "source": [
        "sns.pairplot(\n",
        "    pairplot_df,\n",
        "    hue=\"HeartDisease\",\n",
        "    kind=\"scatter\",\n",
        "    diag_kind=\"kde\",\n",
        "    palette=HeartDisease_colors,\n",
        "    height=1.5,\n",
        "    aspect=1,\n",
        "    plot_kws=dict(s=5),\n",
        ")\n",
        "plt.show()"
      ]
    },
    {
      "cell_type": "markdown",
      "metadata": {
        "id": "BORBvcPsMC8l"
      },
      "source": [
        "Observations:\n",
        "\n",
        "* In general, there is no big difference in the diagonal plot, Oldpeak and cholesterol however, have some extreme data points"
      ]
    },
    {
      "cell_type": "code",
      "execution_count": null,
      "metadata": {
        "id": "J86lBFg6MGC2"
      },
      "outputs": [],
      "source": [
        "HeartDisease_by_Sex = (\n",
        "    heart_dft.groupby([\"Sex\"])[\"HeartDisease\"]\n",
        "    .value_counts(normalize=True)\n",
        "    .reset_index(name=\"Pct\")\n",
        ").rename(columns={\"level_1\": \"HeartDisease\"})\n",
        "\n",
        "HeartDisease_by_Sex[\"Pct\"] = HeartDisease_by_Sex[\"Pct\"].round(2) * 100\n",
        "\n",
        "HeartDisease_by_Sex"
      ]
    },
    {
      "cell_type": "code",
      "execution_count": null,
      "metadata": {
        "id": "sffQjf1ZMKNV"
      },
      "outputs": [],
      "source": [
        "fig, ax = plt.subplots(1, 1, figsize=(12, 5))\n",
        "\n",
        "hplt = sns.barplot(\n",
        "    data=HeartDisease_by_Sex,\n",
        "    x=\"Sex\",\n",
        "    #errorbar=None,\n",
        "    y=\"Pct\",\n",
        "    hue=\"HeartDisease\",\n",
        "    linewidth=0.5,\n",
        "    edgecolor=\"black\",\n",
        "    palette=HeartDisease_colors,\n",
        "    alpha=0.6,\n",
        "    ax=ax,\n",
        ")\n",
        "\n",
        "for axhs in [ax]:\n",
        "    for container in axhs.containers:\n",
        "        values_hs = container.datavalues\n",
        "        labels = [\"{:g}%\".format(val) for val in values_hs]\n",
        "        axhs.bar_label(container, labels=labels)\n",
        "\n",
        "ax.set_ylabel(\"\")\n",
        "ax.set_xlabel(\"\")\n",
        "ax.set_title(\"\", fontsize=10)\n",
        "\n",
        "\n",
        "plt.tight_layout()\n",
        "plt.show()\n",
        "\n",
        "plt.show()"
      ]
    },
    {
      "cell_type": "markdown",
      "metadata": {
        "id": "pQmEhljfMQau"
      },
      "source": [
        "Note:\n",
        "\n",
        "* According to this dataset, 26% of females have developed Heart Disease, and 74% Have not. and\n",
        "\n",
        "* 63% of Males have developed Heart Disease, and 37% have not."
      ]
    },
    {
      "cell_type": "markdown",
      "metadata": {
        "id": "V5yiyMipMXDe"
      },
      "source": [
        "#### Lets check the maximum heart rate by age and Sex using FacetGrid"
      ]
    },
    {
      "cell_type": "code",
      "execution_count": null,
      "metadata": {
        "id": "D5ZpD0ajMYcm"
      },
      "outputs": [],
      "source": [
        "heart_df_fg = sns.FacetGrid(\n",
        "    data=heart_dft_chol_n0,\n",
        "    col=\"Sex\",\n",
        "    hue=\"Sex\",\n",
        "    row=\"HeartDisease\",\n",
        "    height=4,\n",
        "    aspect=1.3,\n",
        "    palette=sex_color,\n",
        "    col_order=[\"Male\", \"Female\"],\n",
        ")\n",
        "heart_df_fg.map_dataframe(sns.regplot, \"Age\", \"MaxHR\")\n",
        "plt.show()"
      ]
    },
    {
      "cell_type": "markdown",
      "metadata": {
        "id": "R-7bEGnqMeBP"
      },
      "source": [
        "Note:\n",
        "\n",
        "* We can see that the correlation between Age and MaxHR in Males is negative in both heart disease categories\n",
        "\n",
        "* Females have got positive correlation between Age and MaxHR in the heart disease category Yes, and a negative correlation in the heart disease category \"No\"\n",
        "\n",
        "* It is worth noting that the range of Age range of females in category Yes is from ~ 30 to ~65, and it is from ~30 to ~ 75 in category No\n",
        "\n",
        "* The range Age of Males in the category Yes is from ~ 30 to ~70, however it is from ~30 to ~ 77 in the category No"
      ]
    },
    {
      "cell_type": "markdown",
      "metadata": {
        "id": "ViU0M5HuMgs-"
      },
      "source": [
        "#### Find the mean of Age, Cholesterol, MaxHR and RestingBP, by sex and HeartDisease vars."
      ]
    },
    {
      "cell_type": "code",
      "execution_count": null,
      "metadata": {
        "id": "9Erbi7x6Misa"
      },
      "outputs": [],
      "source": [
        "heart_dft_chol_n0.groupby([\"Sex\", \"HeartDisease\"]).agg(\n",
        "    Age_mean=pd.NamedAgg(\"Age\", \"mean\"),\n",
        "    Cholesterol_mean=pd.NamedAgg(\"Cholesterol\", \"mean\"),\n",
        "    MaxHR_mean=pd.NamedAgg(\"MaxHR\", \"mean\"),\n",
        "    RestingBP_mean=pd.NamedAgg(\"RestingBP\", \"mean\"),\n",
        ").reset_index().round(2)"
      ]
    },
    {
      "cell_type": "markdown",
      "metadata": {
        "id": "U-lBcZJtMmrj"
      },
      "source": [
        "Observations:\n",
        "\n",
        "Females:\n",
        "\n",
        "* The Cholesterol_mean value in females who developed heart disease is higher (279) than in those who did not (249)\n",
        "\n",
        "* The RestingBP_mean value in females who developed heart disease is also higher (143) than in those who did not (128.7)\n",
        "\n",
        "* MaxHR_mean in females who did develop heart disease is LOWER (139) than in those who did not (149)\n",
        "\n",
        "Males:\n",
        "\n",
        "* The Cholesterol_mean value in Males who developed heart disease is higher (247) than in those who did not (232)\n",
        "\n",
        "* The RestingBP_mean value in Males who developed heart disease is slightly higher (135) than in those who did not (130.9)\n",
        "\n",
        "* MaxHR_mean in Males who did develop heart disease is LOWER (129) than in those who did not (148.9)"
      ]
    },
    {
      "cell_type": "markdown",
      "metadata": {
        "id": "P7213ymoPo4n"
      },
      "source": [
        "#Data observation"
      ]
    },
    {
      "cell_type": "code",
      "execution_count": null,
      "metadata": {
        "id": "-2iROL18GJ4D"
      },
      "outputs": [],
      "source": [
        "# Print first 5 rows of the dataset\n",
        "heart_data.head()"
      ]
    },
    {
      "cell_type": "code",
      "execution_count": null,
      "metadata": {
        "id": "DmjURA9-PwAn"
      },
      "outputs": [],
      "source": [
        "# Print last 5 rows of the dataset\n",
        "heart_data.tail()"
      ]
    },
    {
      "cell_type": "code",
      "execution_count": null,
      "metadata": {
        "id": "N2YwYHpLThby"
      },
      "outputs": [],
      "source": []
    },
    {
      "cell_type": "code",
      "execution_count": null,
      "metadata": {
        "id": "Y3s2XwO2Tj98"
      },
      "outputs": [],
      "source": [
        "# Number of rows and coloumns in the dataset\n",
        "heart_data.shape"
      ]
    },
    {
      "cell_type": "code",
      "execution_count": null,
      "metadata": {
        "id": "3H4aL0foUCi7"
      },
      "outputs": [],
      "source": [
        "# Checking for missing values\n",
        "heart_data.isnull().sum()"
      ]
    },
    {
      "cell_type": "code",
      "execution_count": null,
      "metadata": {
        "id": "gzNdX-EmGN6F"
      },
      "outputs": [],
      "source": [
        "# More information about the dataset\n",
        "heart_data.info()"
      ]
    },
    {
      "cell_type": "code",
      "execution_count": null,
      "metadata": {
        "id": "CuRMpJByUPvU"
      },
      "outputs": [],
      "source": [
        "# Statistical measures about the dataset\n",
        "heart_data.describe()"
      ]
    },
    {
      "cell_type": "code",
      "execution_count": null,
      "metadata": {
        "id": "ItNgWHfMUW23"
      },
      "outputs": [],
      "source": [
        "# Checking the distribution of the HeartDisease variable\n",
        "heart_data['target'].value_counts()"
      ]
    },
    {
      "cell_type": "markdown",
      "metadata": {
        "id": "U_UgXegGWE3Q"
      },
      "source": [
        "###1---> Defective Heart\n",
        "\n",
        "###0---> Healthy Heart\n",
        "\n",
        "Splitting the Features and HeartDisease"
      ]
    },
    {
      "cell_type": "code",
      "execution_count": null,
      "metadata": {
        "id": "Fzh6x-VqWhP8"
      },
      "outputs": [],
      "source": [
        "X = heart_data.drop(columns='target', axis=1)\n",
        "Y = heart_data['target']"
      ]
    },
    {
      "cell_type": "code",
      "execution_count": null,
      "metadata": {
        "id": "UdFaqzsPXAWv"
      },
      "outputs": [],
      "source": [
        "print(X)"
      ]
    },
    {
      "cell_type": "code",
      "execution_count": null,
      "metadata": {
        "colab": {
          "background_save": true
        },
        "id": "crtfrSEJXB3L"
      },
      "outputs": [],
      "source": [
        "print(Y)"
      ]
    },
    {
      "cell_type": "markdown",
      "metadata": {
        "id": "nM4woMVbXN73"
      },
      "source": [
        "###Splitting the Data Into Traning Data & Text Data"
      ]
    },
    {
      "cell_type": "code",
      "execution_count": null,
      "metadata": {
        "id": "zJjnGxVnXKYz"
      },
      "outputs": [],
      "source": [
        "X_train, X_test, Y_train, Y_test = train_test_split(X, Y, test_size=0.2, stratify=Y, random_state=3)"
      ]
    },
    {
      "cell_type": "code",
      "execution_count": null,
      "metadata": {
        "id": "0cJ6rhaaXZ9m"
      },
      "outputs": [],
      "source": [
        "print(X.shape, X_train.shape, X_test.shape)"
      ]
    },
    {
      "cell_type": "markdown",
      "metadata": {
        "id": "-ZpNGAcKXsUz"
      },
      "source": [
        "###Model training -->\n",
        "\n",
        "###Logistic Regression\n"
      ]
    },
    {
      "cell_type": "code",
      "execution_count": null,
      "metadata": {
        "id": "bUcFdR7oX6F_"
      },
      "outputs": [],
      "source": [
        "model = LogisticRegression()"
      ]
    },
    {
      "cell_type": "code",
      "execution_count": null,
      "metadata": {
        "id": "SH3_GePYctfB"
      },
      "outputs": [],
      "source": [
        "# training the LogisticRegression model with training data\n",
        "model.fit(X_train, Y_train)"
      ]
    },
    {
      "cell_type": "markdown",
      "metadata": {
        "id": "SuGEBX8ie_TO"
      },
      "source": [
        "##Finding the Accuracy in both the training data and test data"
      ]
    },
    {
      "cell_type": "code",
      "execution_count": null,
      "metadata": {
        "id": "Z5REynQdctgA"
      },
      "outputs": [],
      "source": [
        "# accuracy on training data\n",
        "X_train_prediction = model.predict(X_train)\n",
        "training_data_accuracy = accuracy_score(X_train_prediction, Y_train)"
      ]
    },
    {
      "cell_type": "code",
      "execution_count": null,
      "metadata": {
        "id": "fNYVan7gc-lq"
      },
      "outputs": [],
      "source": [
        "print('Accuracy on Taining data : ', training_data_accuracy)"
      ]
    },
    {
      "cell_type": "code",
      "execution_count": null,
      "metadata": {
        "id": "nytSqe_Te3Yn"
      },
      "outputs": [],
      "source": [
        "# accuracy on test data\n",
        "X_test_prediction = model.predict(X_test)\n",
        "test_data_accuracy = accuracy_score(X_test_prediction, Y_test)"
      ]
    },
    {
      "cell_type": "code",
      "execution_count": null,
      "metadata": {
        "id": "MSM2tWgke7_6"
      },
      "outputs": [],
      "source": [
        "print('Accuracy on Test data : ', test_data_accuracy)"
      ]
    },
    {
      "cell_type": "markdown",
      "metadata": {
        "id": "lNYvWXoyfWin"
      },
      "source": [
        "###Building a Predictive System\n",
        "(Predict if the person has heart disease or not)\n"
      ]
    },
    {
      "cell_type": "code",
      "execution_count": null,
      "metadata": {
        "id": "I_Ay4k3RfO8K"
      },
      "outputs": [],
      "source": [
        "input_data = (58,0,0,100,248,0,0,122,0,1,1,0,2)\n",
        "\n",
        "# change the input data to a numpy array\n",
        "input_data_as_numpy_array = np.asarray(input_data)\n",
        "\n",
        "# reshape the numpy array as we are predicting for only one instance\n",
        "input_data_reshaped = input_data_as_numpy_array.reshape(1, -1)\n",
        "\n",
        "prediction = model.predict(input_data_reshaped)\n",
        "print(prediction)\n",
        "\n",
        "if(prediction[0]==0):\n",
        "  print('The person does not have Heart disease.')\n",
        "else:\n",
        "  print('The person has heart disease.\\n\\n\\n')\n"
      ]
    }
  ],
  "metadata": {
    "colab": {
      "provenance": []
    },
    "kernelspec": {
      "display_name": "Python 3",
      "name": "python3"
    },
    "language_info": {
      "name": "python"
    }
  },
  "nbformat": 4,
  "nbformat_minor": 0
}